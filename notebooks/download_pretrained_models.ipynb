{
  "nbformat": 4,
  "nbformat_minor": 0,
  "metadata": {
    "colab": {
      "name": "download-pretrained-models.ipynb",
      "provenance": [],
      "collapsed_sections": []
    },
    "kernelspec": {
      "name": "python3",
      "display_name": "Python 3"
    },
    "accelerator": "GPU"
  },
  "cells": [
    {
      "cell_type": "markdown",
      "metadata": {
        "id": "wrUPPv2_FzMN"
      },
      "source": [
        "# SWENG 2021 Download Pretrained Models\n",
        "\n",
        "Notebook containing the steps necessary to download further pretrained models. Currently kept as a reference for when we need them."
      ]
    },
    {
      "cell_type": "code",
      "metadata": {
        "id": "sQ2_ZrqTEL2M"
      },
      "source": [
        "# Clone repository containing pre-trained models and install requirements\n",
        "!git clone https://github.com/huyvnphan/PyTorch_CIFAR10.git\n",
        "!pip install pytorch_lightning"
      ],
      "execution_count": null,
      "outputs": []
    },
    {
      "cell_type": "code",
      "metadata": {
        "id": "7Nrne7JOFLdN"
      },
      "source": [
        "# Change directory to the models repo\n",
        "import os\n",
        "os.chdir(\"PyTorch_CIFAR10\")"
      ],
      "execution_count": null,
      "outputs": []
    },
    {
      "cell_type": "code",
      "metadata": {
        "id": "lEg67wFAE8Xk"
      },
      "source": [
        "# run script for downloading the pre-trained models\n",
        "# the models are stored in the folder 'PyTorch_CIFAR10/cifar10_models'\n",
        "!python train.py --download_weights 1"
      ],
      "execution_count": null,
      "outputs": []
    },
    {
      "cell_type": "code",
      "metadata": {
        "id": "RuIwXZB1EYze"
      },
      "source": [
        "# import sample models\n",
        "from cifar10_models.vgg import vgg11_bn, vgg13_bn, vgg16_bn, vgg19_bn"
      ],
      "execution_count": null,
      "outputs": []
    },
    {
      "cell_type": "code",
      "metadata": {
        "id": "9v00cbKbEruN"
      },
      "source": [
        "# load sample model\n",
        "vgg11_pretrained = vgg11_bn(pretrained=True)"
      ],
      "execution_count": null,
      "outputs": []
    }
  ]
}