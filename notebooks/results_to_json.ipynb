{
  "nbformat": 4,
  "nbformat_minor": 0,
  "metadata": {
    "colab": {
      "name": "results-to-json.ipynb",
      "provenance": [],
      "collapsed_sections": [],
      "authorship_tag": "ABX9TyNGjT1Ig+0dMkmgPv5tMvgO"
    },
    "kernelspec": {
      "name": "python3",
      "display_name": "Python 3"
    },
    "language_info": {
      "name": "python"
    }
  },
  "cells": [
    {
      "cell_type": "code",
      "metadata": {
        "id": "jAKOfUvuOSxp"
      },
      "source": [
        "# mount Google Drive so you can access the results\n",
        "from google.colab import drive\n",
        "drive.mount('/content/drive')"
      ],
      "execution_count": null,
      "outputs": []
    },
    {
      "cell_type": "code",
      "metadata": {
        "id": "4nmjh_JvOZW_"
      },
      "source": [
        "import pandas as pd\n",
        "import gspread\n",
        "from oauth2client.client import GoogleCredentials\n",
        "from google.colab import auth\n",
        "import json\n",
        "auth.authenticate_user()"
      ],
      "execution_count": 284,
      "outputs": []
    },
    {
      "cell_type": "code",
      "metadata": {
        "id": "s14db-SYRWsv"
      },
      "source": [
        "gc = gspread.authorize(GoogleCredentials.get_application_default())\n",
        "wb = gc.open_by_url('https://docs.google.com/spreadsheets/d/1-XISAVZLTrBa21v7w0C0ygbUqL3vnDwtGFfTrJ2owtA')\n",
        "sheet = wb.worksheet('Sheet1')"
      ],
      "execution_count": 364,
      "outputs": []
    },
    {
      "cell_type": "code",
      "metadata": {
        "id": "-D1Cz6A4VIfi"
      },
      "source": [
        "orig = pd.DataFrame.from_records(sheet.get_all_values())\n",
        "results = orig.drop(orig.columns[-2:], axis=1)\n",
        "results.head()"
      ],
      "execution_count": null,
      "outputs": []
    },
    {
      "cell_type": "code",
      "metadata": {
        "id": "DjkOM98Rg-zh"
      },
      "source": [
        "cifar10_res = results.drop(results.columns[5:], axis=1)\n",
        "cifar10_res = cifar10_res.rename(columns=cifar10_res.iloc[1]).drop(cifar10_res.index[0:2])\n",
        "cifar100_res = results.drop(results.columns[1:5], axis=1)\n",
        "cifar100_res = cifar100_res.rename(columns=cifar100_res.iloc[1]).drop(cifar100_res.index[0:2])"
      ],
      "execution_count": 367,
      "outputs": []
    },
    {
      "cell_type": "code",
      "metadata": {
        "id": "YSuIjZtqj1s_"
      },
      "source": [
        "cifar10_res['Dataset'] = 'cifar10'\n",
        "cifar100_res['Dataset'] = 'cifar100'"
      ],
      "execution_count": 368,
      "outputs": []
    },
    {
      "cell_type": "code",
      "metadata": {
        "id": "bqgOupAqk1f0"
      },
      "source": [
        "results = cifar10_res.append(cifar100_res)\n",
        "stats_cols = results.columns[1:5]\n",
        "results[stats_cols] = results[stats_cols].apply(pd.to_numeric, errors='coerce')"
      ],
      "execution_count": 369,
      "outputs": []
    },
    {
      "cell_type": "code",
      "metadata": {
        "id": "y_4xFLg_2tV-"
      },
      "source": [
        "results.head()"
      ],
      "execution_count": null,
      "outputs": []
    },
    {
      "cell_type": "code",
      "metadata": {
        "id": "AynTRnTOnEE-"
      },
      "source": [
        "grouped = results.groupby(['Model', 'Dataset'])[numeric_cols].last().to_dict(orient='index')"
      ],
      "execution_count": 371,
      "outputs": []
    },
    {
      "cell_type": "code",
      "metadata": {
        "id": "WM5hcHxsvkA2"
      },
      "source": [
        "output = {'trained': None, 'soa': None}\n",
        "for (model, dataset) in grouped.keys():\n",
        "  acc1, acc5, ttest1, ttest5 = grouped[(model, dataset)].values()\n",
        "  stats_dict= {'accuracy': [acc1, acc5], 't_test': [ttest1, ttest5]}\n",
        "  if output['trained'] is None: output['trained'] = {model: {dataset: stats_dict}}\n",
        "  elif model not in output['trained'].keys(): output['trained'][model] = {dataset: stats_dict}\n",
        "  else: output['trained'][model][dataset] = stats_dict"
      ],
      "execution_count": 372,
      "outputs": []
    },
    {
      "cell_type": "code",
      "metadata": {
        "id": "slmh57Nn_ANz"
      },
      "source": [
        "details = orig.drop(orig.columns[1:-2], axis=1)\n",
        "details = details.rename(columns=details.iloc[1]).drop(details.index[0:2])\n",
        "details.columns = [col.lower() for col in details.columns]"
      ],
      "execution_count": 373,
      "outputs": []
    },
    {
      "cell_type": "code",
      "metadata": {
        "id": "HJruflSs_WEi"
      },
      "source": [
        "details_dict = details.groupby('model')['details', 'reason'].last().to_dict(orient='index')"
      ],
      "execution_count": null,
      "outputs": []
    },
    {
      "cell_type": "code",
      "metadata": {
        "id": "bkvS-wV-CTx-"
      },
      "source": [
        "for model in output['trained'].keys():\n",
        "  output['trained'][model].update(details_dict[model])"
      ],
      "execution_count": 375,
      "outputs": []
    },
    {
      "cell_type": "code",
      "metadata": {
        "id": "ZWsNOrxbC_5q"
      },
      "source": [
        "print(json.dumps(output, indent=2))"
      ],
      "execution_count": null,
      "outputs": []
    },
    {
      "cell_type": "code",
      "metadata": {
        "id": "mIf5parlDKh0"
      },
      "source": [
        "json.dump(output, open('/content/drive/MyDrive/SWENG 2/results.json', 'w'), indent=2)"
      ],
      "execution_count": 384,
      "outputs": []
    }
  ]
}